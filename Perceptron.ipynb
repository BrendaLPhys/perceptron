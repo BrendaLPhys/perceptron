{
 "cells": [
  {
   "cell_type": "markdown",
   "metadata": {},
   "source": [
    "## Perceptron task description\n",
    "\n",
    " \"A perceptron can be used when the data is linearly separable\"\n",
    " \n",
    "![Perceptron](percept.jpg)\n",
    " \n",
    "#### Code must include:\n",
    "\n",
    "- A set of points on a 2D plane [(x1,y1), (x2,y2, ..., (xn,yn)]\n",
    "- The data separated into two categories by a line (i.e. y=2x)\n",
    "- Plot the data and the line\n",
    "- Create a perceptron function that takes the data as argument and based on the learning process finds the optimal weights that create the best line to separate the data.\n",
    "- Plot the data and the expected line and the line obtained by the perceptron in every certain amount of iterations.\n",
    "- Discuss: What is the optimal number of iterations? How many solutions can the perceptron find for this binary separation problem?"
   ]
  },
  {
   "cell_type": "markdown",
   "metadata": {},
   "source": [
    "### Libraries"
   ]
  },
  {
   "cell_type": "code",
   "execution_count": 1,
   "metadata": {},
   "outputs": [],
   "source": [
    "from matplotlib import pyplot as plt\n",
    "import numpy as np"
   ]
  },
  {
   "cell_type": "markdown",
   "metadata": {},
   "source": [
    "### Activation function"
   ]
  },
  {
   "cell_type": "code",
   "execution_count": 2,
   "metadata": {},
   "outputs": [],
   "source": [
    "'''This takes the place of an activation function if value is over 0 points are one class and if equals or under 0 \n",
    "another class. Note to self: += adds another value with the variable's value and assigns the new value to the variable.\n",
    "Note to self: The zip() function returns a zip object, which is an iterator of tuples where the first item in \n",
    "each passed iterator is paired together, and then the second item in each passed iterator are paired together etc. \n",
    "Here it is used for the inner product of two vectors.'''\n",
    "\n",
    "def activate(inputs, weights):\n",
    "    activation=0.0\n",
    "    for i,w in zip(inputs,weights):\n",
    "        activation += i*w \n",
    "    return 1.0 if activation>=0.0 else 0.0"
   ]
  },
  {
   "cell_type": "markdown",
   "metadata": {},
   "source": [
    "### Accuracy function (how close are we?)"
   ]
  },
  {
   "cell_type": "code",
   "execution_count": 3,
   "metadata": {},
   "outputs": [],
   "source": [
    "def accuracy(matrix,weights):\n",
    "    num_correct = 0.0\n",
    "    predictions       = []\n",
    "    for i in range(len(matrix)):\n",
    "        classif   = activate(matrix[i][:-1],weights) # get predicted classification\n",
    "        predictions.append(classif)\n",
    "        if classif==matrix[i][-1]: num_correct+=1.0 \n",
    "    #print(\"Predictions:\",predictions)\n",
    "    return num_correct/float(len(matrix))"
   ]
  },
  {
   "cell_type": "markdown",
   "metadata": {},
   "source": [
    "### Plotting function"
   ]
  },
  {
   "cell_type": "code",
   "execution_count": 4,
   "metadata": {},
   "outputs": [],
   "source": [
    "def plot(matrix, title):\n",
    "\n",
    "    fig,ax = plt.subplots()\n",
    "    ax.set_title(title)\n",
    "    ax.set_xlabel(\"x1\")\n",
    "    ax.set_ylabel(\"x2\")\n",
    "\n",
    "    axis_min=0.0\n",
    "    axis_max=1.1\n",
    "    y_res=0.001\n",
    "    x_res=0.001\n",
    "    ys=np.arange(axis_min,axis_max,y_res)\n",
    "    xs=np.arange(axis_min,axis_max,x_res)\n",
    "    zs=[]\n",
    "    for cur_y in np.arange(axis_min,axis_max,y_res):\n",
    "        for cur_x in np.arange(axis_min,axis_max,x_res):\n",
    "            zs.append(activate([1.0,cur_x,cur_y],weights))\n",
    "    xs,ys=np.meshgrid(xs,ys)\n",
    "    zs=np.array(zs)\n",
    "    zs = zs.reshape(xs.shape)\n",
    "    cp=plt.contourf(xs,ys,zs,levels=[-1,-0.0001,0,1],colors=('b','r'),alpha=0.1)\n",
    "\n",
    "    c1_data=[[],[]]\n",
    "    c0_data=[[],[]]\n",
    "    for i in range(len(matrix)):\n",
    "        cur_x1 = matrix[i][1]\n",
    "        cur_x2 = matrix[i][2]\n",
    "        cur_y  = matrix[i][-1]\n",
    "        if cur_y==1:\n",
    "            c1_data[0].append(cur_x1)\n",
    "            c1_data[1].append(cur_x2)\n",
    "        else:\n",
    "            c0_data[0].append(cur_x1)\n",
    "            c0_data[1].append(cur_x2)\n",
    "\n",
    "    plt.xticks(np.arange(0.0,1.1,0.1))\n",
    "    plt.yticks(np.arange(0.0,1.1,0.1))\n",
    "    plt.xlim(0,1.05)\n",
    "    plt.ylim(0,1.05)\n",
    "\n",
    "    c0s = plt.scatter(c0_data[0],c0_data[1],s=40.0,c='r',label='Class -1')\n",
    "    c1s = plt.scatter(c1_data[0],c1_data[1],s=40.0,c='b',label='Class 1')\n",
    "\n",
    "    plt.show()"
   ]
  },
  {
   "cell_type": "markdown",
   "metadata": {},
   "source": [
    "### Program"
   ]
  },
  {
   "cell_type": "code",
   "execution_count": 5,
   "metadata": {},
   "outputs": [
    {
     "name": "stdout",
     "output_type": "stream",
     "text": [
      "\n",
      " Iteration 0 \n",
      "Weights:  [0.2, 1.0, -1.0]\n",
      "Accuracy:  0.5\n"
     ]
    },
    {
     "data": {
      "image/png": "[encoded data removed]",
      "text/plain": [
       "<Figure size 432x288 with 1 Axes>"
      ]
     },
     "metadata": {
      "needs_background": "light"
     },
     "output_type": "display_data"
    },
    {
     "name": "stdout",
     "output_type": "stream",
     "text": [
      "\n",
      " Iteration 1 \n",
      "Weights:  [-0.8, -0.029999999999999805, -2.1]\n",
      "Accuracy:  0.5\n"
     ]
    },
    {
     "data": {
      "image/png": "[encoded data removed]",
      "text/plain": [
       "<Figure size 432x288 with 1 Axes>"
      ]
     },
     "metadata": {
      "needs_background": "light"
     },
     "output_type": "display_data"
    },
    {
     "name": "stdout",
     "output_type": "stream",
     "text": [
      "\n",
      " Iteration 2 \n",
      "Weights:  [0.19999999999999996, -0.2899999999999997, -2.25]\n",
      "Accuracy:  0.5\n"
     ]
    },
    {
     "data": {
      "image/png": "[encoded data removed]",
      "text/plain": [
       "<Figure size 432x288 with 1 Axes>"
      ]
     },
     "metadata": {
      "needs_background": "light"
     },
     "output_type": "display_data"
    },
    {
     "name": "stdout",
     "output_type": "stream",
     "text": [
      "\n",
      " Iteration 3 \n",
      "Weights:  [0.19999999999999996, -0.9099999999999997, -2.18]\n",
      "Accuracy:  0.5\n"
     ]
    },
    {
     "data": {
      "image/png": "[encoded data removed]",
      "text/plain": [
       "<Figure size 432x288 with 1 Axes>"
      ]
     },
     "metadata": {
      "needs_background": "light"
     },
     "output_type": "display_data"
    },
    {
     "name": "stdout",
     "output_type": "stream",
     "text": [
      "\n",
      " Iteration 4 \n",
      "Weights:  [1.2, -0.8299999999999997, -1.4600000000000002]\n",
      "Accuracy:  1.0\n"
     ]
    },
    {
     "data": {
      "image/png": "[encoded data removed]",
      "text/plain": [
       "<Figure size 432x288 with 1 Axes>"
      ]
     },
     "metadata": {
      "needs_background": "light"
     },
     "output_type": "display_data"
    },
    {
     "name": "stdout",
     "output_type": "stream",
     "text": [
      "[1.2, -0.8299999999999997, -1.4600000000000002]\n"
     ]
    }
   ],
   "source": [
    "# Some linearly separable data:\n",
    "\n",
    "#            Bias    x1      x2    expected\n",
    "matrix = [  [1.00,  0.08,   0.72,   1.0],\n",
    "            [1.00,  0.10,   1.00,   0.0],\n",
    "            [1.00,  0.26,   0.58,   1.0],\n",
    "            [1.00,  0.35,   0.95,   0.0],\n",
    "            [1.00,  0.45,   0.15,   1.0],\n",
    "            [1.00,  0.60,   0.30,   1.0],\n",
    "            [1.00,  0.70,   0.65,   0.0],\n",
    "            [1.00,  0.92,   0.45,   0.0]]\n",
    "weights = [  0.20,  1.00,  -1.00        ] # initial weights\n",
    "\n",
    "iterations=10\n",
    "rate = 1.0\n",
    "plotting = True\n",
    "stop = True\n",
    "\n",
    "# Perceptron training:\n",
    "\n",
    "for iteration in range(iterations):\n",
    "    cur_acc = accuracy(matrix,weights)\n",
    "    print(\"\\n Iteration %d \\nWeights: \"%iteration,weights)\n",
    "    print(\"Accuracy: \",cur_acc)\n",
    "\n",
    "    if cur_acc==1.0 and stop: break \n",
    "    \n",
    "    if plotting: plot(matrix, title=\"Iteration %d\"%iteration)\n",
    "\n",
    "    for i in range(len(matrix)):\n",
    "        prediction = activate(matrix[i][:-1],weights) # get predicted classificaion\n",
    "        error      = matrix[i][-1]-prediction         # get error from real classification\n",
    "        for j in range(len(weights)):                 # calculate new weight for each node\n",
    "            weights[j] = weights[j]+(rate*error*matrix[i][j]) \n",
    "            \n",
    "                \n",
    "plot(matrix, title=\"Final iteration\")\n",
    "print(weights)\n"
   ]
  }
 ],
 "metadata": {
  "kernelspec": {
   "display_name": "Python 3",
   "language": "python",
   "name": "python3"
  },
  "language_info": {
   "codemirror_mode": {
    "name": "ipython",
    "version": 3
   },
   "file_extension": ".py",
   "mimetype": "text/x-python",
   "name": "python",
   "nbconvert_exporter": "python",
   "pygments_lexer": "ipython3",
   "version": "3.8.5"
  }
 },
 "nbformat": 4,
 "nbformat_minor": 4
}
